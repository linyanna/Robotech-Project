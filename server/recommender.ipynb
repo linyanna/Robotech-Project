{
 "cells": [
  {
   "cell_type": "code",
   "execution_count": null,
   "metadata": {},
   "outputs": [],
   "source": [
    "import pandas as pd\n",
    "import numpy as np\n",
    "import json\n",
    "import re \n",
    "import sys\n",
    "import itertools\n",
    "import os\n",
    "\n",
    "import spotipy\n",
    "from spotipy.oauth2 import SpotifyClientCredentials\n",
    "from spotipy.oauth2 import SpotifyOAuth\n",
    "import spotipy.util as util\n",
    "\n",
    "import warnings\n",
    "warnings.filterwarnings(\"ignore\")"
   ]
  },
  {
   "attachments": {},
   "cell_type": "markdown",
   "metadata": {},
   "source": [
    "# Data Prep #"
   ]
  },
  {
   "cell_type": "code",
   "execution_count": null,
   "metadata": {},
   "outputs": [],
   "source": [
    "spotify_df = pd.read_csv('./solutions/genres_v2.csv')\n",
    "spotify_df.head()"
   ]
  },
  {
   "cell_type": "code",
   "execution_count": null,
   "metadata": {},
   "outputs": [],
   "source": [
    "spotify_df.dtypes"
   ]
  },
  {
   "cell_type": "code",
   "execution_count": null,
   "metadata": {},
   "outputs": [],
   "source": [
    "#simple function to create OHE features\n",
    "#this gets passed later on\n",
    "def ohe_prep(df, column, new_name): \n",
    "    \"\"\" \n",
    "    Create One Hot Encoded features of a specific column\n",
    "\n",
    "    Parameters: \n",
    "        df (pandas dataframe): Spotify Dataframe\n",
    "        column (str): Column to be processed\n",
    "        new_name (str): new column name to be used\n",
    "        \n",
    "    Returns: \n",
    "        tf_df: One hot encoded features \n",
    "    \"\"\"\n",
    "    \n",
    "    tf_df = pd.get_dummies(df[column])\n",
    "    feature_names = tf_df.columns\n",
    "    tf_df.columns = [new_name + \"|\" + str(i) for i in feature_names]\n",
    "    tf_df.reset_index(drop = True, inplace = True)    \n",
    "    return tf_df"
   ]
  },
  {
   "cell_type": "code",
   "execution_count": null,
   "metadata": {},
   "outputs": [],
   "source": [
    "#function to build entire feature set\n",
    "def create_feature_set(df, float_cols):\n",
    "    \"\"\" \n",
    "    Process spotify df to create a final set of features that will be used to generate recommendations\n",
    "\n",
    "    Parameters: \n",
    "        df (pandas dataframe): Spotify Dataframe\n",
    "        float_cols (list(str)): List of float columns that will be scaled \n",
    "        \n",
    "    Returns: \n",
    "        final: final set of features \n",
    "    \"\"\"\n",
    "    \n",
    "    #tfidf genre lists\n",
    "    tfidf = TfidfVectorizer()\n",
    "    tfidf_matrix =  tfidf.fit_transform(df['consolidates_genre_lists'].apply(lambda x: \" \".join(x)))\n",
    "    genre_df = pd.DataFrame(tfidf_matrix.toarray())\n",
    "    genre_df.columns = ['genre' + \"|\" + i for i in tfidf.get_feature_names()]\n",
    "    genre_df.reset_index(drop = True, inplace=True)\n",
    "\n",
    "    #explicity_ohe = ohe_prep(df, 'explicit','exp')    \n",
    "    year_ohe = ohe_prep(df, 'year','year') * 0.5\n",
    "    popularity_ohe = ohe_prep(df, 'popularity_red','pop') * 0.15\n",
    "\n",
    "    #scale float columns\n",
    "    floats = df[float_cols].reset_index(drop = True)\n",
    "    scaler = MinMaxScaler()\n",
    "    floats_scaled = pd.DataFrame(scaler.fit_transform(floats), columns = floats.columns) * 0.2\n",
    "\n",
    "    #concanenate all features\n",
    "    final = pd.concat([genre_df, floats_scaled, popularity_ohe, year_ohe], axis = 1)\n",
    "     \n",
    "    #add song id\n",
    "    final['id']=df['id'].values\n",
    "    \n",
    "    return final"
   ]
  },
  {
   "cell_type": "code",
   "execution_count": null,
   "metadata": {},
   "outputs": [],
   "source": [
    "float_cols = spotify_df.dtypes[spotify_df.dtypes == 'float64'].index.values\n"
   ]
  },
  {
   "cell_type": "code",
   "execution_count": null,
   "metadata": {},
   "outputs": [],
   "source": [
    "complete_feature_set = create_feature_set(spotify_df, float_cols=float_cols)#.mean(axis = 0)\n"
   ]
  },
  {
   "attachments": {},
   "cell_type": "markdown",
   "metadata": {},
   "source": [
    "# Spotify Credentials #"
   ]
  },
  {
   "cell_type": "code",
   "execution_count": null,
   "metadata": {},
   "outputs": [],
   "source": [
    "client_id = os.getenv(\"SPOTIPY_CLIENT_ID\")\n",
    "client_secret = os.getenv(\"SPOTIPY_CLIENT_SECRET\")\n",
    "redirect_uri = os.getenv(\"SPOTIPY_REDIRECT_URI\")\n"
   ]
  },
  {
   "cell_type": "code",
   "execution_count": null,
   "metadata": {},
   "outputs": [],
   "source": [
    "scope = 'user-library-read'\n",
    "\n",
    "if len(sys.argv) > 1:\n",
    "    username = sys.argv[1]\n",
    "else:\n",
    "    print(\"Usage: %s username\" % (sys.argv[0],))\n",
    "    sys.exit()"
   ]
  },
  {
   "cell_type": "code",
   "execution_count": null,
   "metadata": {},
   "outputs": [],
   "source": [
    "auth_manager = SpotifyClientCredentials(client_id='SPOTIPY_CLIENT_ID', client_secret='SPOTIPY_CLIENT_SECRET')\n",
    "sp = spotipy.Spotify(auth_manager=auth_manager)"
   ]
  },
  {
   "cell_type": "code",
   "execution_count": null,
   "metadata": {},
   "outputs": [],
   "source": [
    "token = util.prompt_for_user_token(scope, client_id=client_id, client_secret=client_secret, redirect_uri='https://localhost:8888/callback/')"
   ]
  },
  {
   "cell_type": "code",
   "execution_count": null,
   "metadata": {},
   "outputs": [],
   "source": [
    "sp = spotipy.Spotify(auth=token)"
   ]
  },
  {
   "cell_type": "code",
   "execution_count": null,
   "metadata": {},
   "outputs": [],
   "source": [
    "# if len(sys.argv) > 1:\n",
    "#     urn = sys.argv[1]\n",
    "# else:\n",
    "#     urn = 'spotify:track:0Svkvt5I79wficMFgaqEQJ'\n",
    "\n",
    "# temp = spotify_df['id'].values\n",
    "# genre_list = []\n",
    "# for idx, track_id in enumerate(temp):\n",
    "#     artist_uri = sp.track(track_id= track_id)['artists'][0]['uri']\n",
    "#     artist_info = sp.artist(artist_uri)\n",
    "\n",
    "#     genre_list.append(artist_info['genres'])\n",
    "# spotify_df['genre'] = genre_list\n"
   ]
  },
  {
   "cell_type": "code",
   "execution_count": null,
   "metadata": {},
   "outputs": [],
   "source": [
    "# spotify_df['genre'] = genre_list"
   ]
  },
  {
   "cell_type": "code",
   "execution_count": null,
   "metadata": {},
   "outputs": [],
   "source": [
    "# spotify_df.to_csv('./solutions/out.csv')"
   ]
  },
  {
   "cell_type": "code",
   "execution_count": null,
   "metadata": {},
   "outputs": [],
   "source": [
    "#gather playlist names and images. \n",
    "id_name = {}\n",
    "list_photo = {}\n",
    "for i in sp.current_user_playlists()['items']:\n",
    "\n",
    "    id_name[i['name']] = i['uri'].split(':')[2]\n",
    "    list_photo[i['uri'].split(':')[2]] = i['images'][0]['url']"
   ]
  },
  {
   "cell_type": "code",
   "execution_count": null,
   "metadata": {},
   "outputs": [],
   "source": [
    "id_name"
   ]
  },
  {
   "cell_type": "code",
   "execution_count": null,
   "metadata": {},
   "outputs": [],
   "source": [
    "def create_necessary_outputs(playlist_name,id_dic, df):\n",
    "    \"\"\" \n",
    "    Pull songs from a specific playlist.\n",
    "\n",
    "    Parameters: \n",
    "        playlist_name (str): name of the playlist you'd like to pull from the spotify API\n",
    "        id_dic (dic): dictionary that maps playlist_name to playlist_id\n",
    "        df (pandas dataframe): spotify datafram\n",
    "        \n",
    "    Returns: \n",
    "        playlist: all songs in the playlist THAT ARE AVAILABLE IN THE KAGGLE DATASET\n",
    "    \"\"\"\n",
    "    \n",
    "    #generate playlist dataframe\n",
    "    playlist = pd.DataFrame()\n",
    "    playlist_name = playlist_name\n",
    "\n",
    "    for ix, i in enumerate(sp.playlist(id_dic[playlist_name])['tracks']['items']):\n",
    "        #print(i['track']['artists'][0]['name'])\n",
    "        playlist.loc[ix, 'artist'] = i['track']['artists'][0]['name']\n",
    "        playlist.loc[ix, 'name'] = i['track']['name']\n",
    "        playlist.loc[ix, 'id'] = i['track']['id'] # ['uri'].split(':')[2]\n",
    "        playlist.loc[ix, 'url'] = i['track']['album']['images'][1]['url']\n",
    "        playlist.loc[ix, 'date_added'] = i['added_at']\n",
    "\n",
    "    playlist['date_added'] = pd.to_datetime(playlist['date_added'])  \n",
    "    \n",
    "    playlist = playlist[playlist['id'].isin(df['id'].values)].sort_values('date_added',ascending = False)\n",
    "    \n",
    "    return playlist"
   ]
  },
  {
   "cell_type": "markdown",
   "metadata": {},
   "source": []
  },
  {
   "cell_type": "code",
   "execution_count": null,
   "metadata": {},
   "outputs": [],
   "source": [
    "playlist_EDM = create_necessary_outputs('aussie aussie aussie', id_name,spotify_df)\n",
    "#playlist_chill = create_necessary_outputs('chill',id_name, spotify_df)\n",
    "#playlist_classical = create_necessary_outputs('Epic Classical',id_name, spotify_df)"
   ]
  },
  {
   "cell_type": "code",
   "execution_count": null,
   "metadata": {},
   "outputs": [],
   "source": [
    "# from skimage import io\n",
    "# import matplotlib.pyplot as plt\n",
    "\n",
    "# def visualize_songs(df):\n",
    "#     \"\"\" \n",
    "#     Visualize cover art of the songs in the inputted dataframe\n",
    "\n",
    "#     Parameters: \n",
    "#         df (pandas dataframe): Playlist Dataframe\n",
    "#     \"\"\"\n",
    "    \n",
    "#     temp = df['url'].values\n",
    "#     plt.figure(figsize=(15,int(0.625 * len(temp))))\n",
    "#     columns = 5\n",
    "    \n",
    "#     for i, url in enumerate(temp):\n",
    "#         plt.subplot(len(temp) / columns + 1, columns, i + 1)\n",
    "\n",
    "#         image = io.imread(url)\n",
    "#         plt.imshow(image)\n",
    "#         plt.xticks(color = 'w', fontsize = 0.1)\n",
    "#         plt.yticks(color = 'w', fontsize = 0.1)\n",
    "#         plt.xlabel(df['name'].values[i], fontsize = 12)\n",
    "#         plt.tight_layout(h_pad=0.4, w_pad=0)\n",
    "#         plt.subplots_adjust(wspace=None, hspace=None)\n",
    "\n",
    "#     plt.show()"
   ]
  },
  {
   "cell_type": "code",
   "execution_count": null,
   "metadata": {},
   "outputs": [],
   "source": []
  },
  {
   "cell_type": "code",
   "execution_count": null,
   "metadata": {},
   "outputs": [],
   "source": [
    "playlist_EDM"
   ]
  },
  {
   "cell_type": "code",
   "execution_count": null,
   "metadata": {},
   "outputs": [],
   "source": [
    "# visualize_songs(playlist_EDM)"
   ]
  },
  {
   "attachments": {},
   "cell_type": "markdown",
   "metadata": {},
   "source": [
    "# 4. Create Playlist Vector #"
   ]
  },
  {
   "cell_type": "code",
   "execution_count": null,
   "metadata": {},
   "outputs": [],
   "source": [
    "def generate_playlist_feature(complete_feature_set, playlist_df, weight_factor):\n",
    "    \"\"\" \n",
    "    Summarize a user's playlist into a single vector\n",
    "\n",
    "    Parameters: \n",
    "        complete_feature_set (pandas dataframe): Dataframe which includes all of the features for the spotify songs\n",
    "        playlist_df (pandas dataframe): playlist dataframe\n",
    "        weight_factor (float): float value that represents the recency bias. The larger the recency bias, the most priority recent songs get. Value should be close to 1. \n",
    "        \n",
    "    Returns: \n",
    "        playlist_feature_set_weighted_final (pandas series): single feature that summarizes the playlist\n",
    "        complete_feature_set_nonplaylist (pandas dataframe): \n",
    "    \"\"\"\n",
    "    \n",
    "    complete_feature_set_playlist = complete_feature_set[complete_feature_set['id'].isin(playlist_df['id'].values)]#.drop('id', axis = 1).mean(axis =0)\n",
    "    complete_feature_set_playlist = complete_feature_set_playlist.merge(playlist_df[['id','date_added']], on = 'id', how = 'inner')\n",
    "    complete_feature_set_nonplaylist = complete_feature_set[~complete_feature_set['id'].isin(playlist_df['id'].values)]#.drop('id', axis = 1)\n",
    "    \n",
    "    playlist_feature_set = complete_feature_set_playlist.sort_values('date_added',ascending=False)\n",
    "\n",
    "    most_recent_date = playlist_feature_set.iloc[0,-1]\n",
    "    \n",
    "    for ix, row in playlist_feature_set.iterrows():\n",
    "        playlist_feature_set.loc[ix,'months_from_recent'] = int((most_recent_date.to_pydatetime() - row.iloc[-1].to_pydatetime()).days / 30)\n",
    "        \n",
    "    playlist_feature_set['weight'] = playlist_feature_set['months_from_recent'].apply(lambda x: weight_factor ** (-x))\n",
    "    \n",
    "    playlist_feature_set_weighted = playlist_feature_set.copy()\n",
    "    #print(playlist_feature_set_weighted.iloc[:,:-4].columns)\n",
    "    playlist_feature_set_weighted.update(playlist_feature_set_weighted.iloc[:,:-4].mul(playlist_feature_set_weighted.weight,0))\n",
    "    playlist_feature_set_weighted_final = playlist_feature_set_weighted.iloc[:, :-4]\n",
    "    #playlist_feature_set_weighted_final['id'] = playlist_feature_set['id']\n",
    "    \n",
    "    return playlist_feature_set_weighted_final.sum(axis = 0), complete_feature_set_nonplaylist"
   ]
  },
  {
   "cell_type": "code",
   "execution_count": null,
   "metadata": {},
   "outputs": [],
   "source": [
    "complete_feature_set_playlist_vector_EDM, complete_feature_set_nonplaylist_EDM = generate_playlist_feature(spotify_df, playlist_EDM, 1.09)\n",
    "#complete_feature_set_playlist_vector_chill, complete_feature_set_nonplaylist_chill = generate_playlist_feature(complete_feature_set, playlist_chill, 1.09)"
   ]
  },
  {
   "cell_type": "code",
   "execution_count": null,
   "metadata": {},
   "outputs": [],
   "source": [
    "complete_feature_set_playlist_vector_EDM.shape\n"
   ]
  },
  {
   "attachments": {},
   "cell_type": "markdown",
   "metadata": {},
   "source": [
    "# 5. Generate Recommendations #"
   ]
  },
  {
   "cell_type": "code",
   "execution_count": null,
   "metadata": {},
   "outputs": [],
   "source": [
    "def generate_playlist_recos(df, features, nonplaylist_features):\n",
    "    \"\"\" \n",
    "    Pull songs from a specific playlist.\n",
    "\n",
    "    Parameters: \n",
    "        df (pandas dataframe): spotify dataframe\n",
    "        features (pandas series): summarized playlist feature\n",
    "        nonplaylist_features (pandas dataframe): feature set of songs that are not in the selected playlist\n",
    "        \n",
    "    Returns: \n",
    "        non_playlist_df_top_40: Top 40 recommendations for that playlist\n",
    "    \"\"\"\n",
    "    \n",
    "    non_playlist_df = df[df['id'].isin(nonplaylist_features['id'].values)]\n",
    "    non_playlist_df['sim'] = cosine_similarity(nonplaylist_features.drop('id', axis = 1).values, features.values.reshape(1, -1))[:,0]\n",
    "    non_playlist_df_top_40 = non_playlist_df.sort_values('sim',ascending = False).head(40)\n",
    "    non_playlist_df_top_40['url'] = non_playlist_df_top_40['id'].apply(lambda x: sp.track(x)['album']['images'][1]['url'])\n",
    "    \n",
    "    return non_playlist_df_top_40"
   ]
  },
  {
   "cell_type": "code",
   "execution_count": null,
   "metadata": {},
   "outputs": [],
   "source": [
    "edm_top40 = generate_playlist_recos(spotify_df, complete_feature_set_playlist_vector_EDM, complete_feature_set_nonplaylist_EDM)\n"
   ]
  },
  {
   "cell_type": "code",
   "execution_count": null,
   "metadata": {},
   "outputs": [],
   "source": [
    "visualize_songs(edm_top40)"
   ]
  },
  {
   "cell_type": "code",
   "execution_count": null,
   "metadata": {},
   "outputs": [],
   "source": [
    "edm_top40"
   ]
  },
  {
   "cell_type": "code",
   "execution_count": null,
   "metadata": {},
   "outputs": [],
   "source": [
    "\n"
   ]
  }
 ],
 "metadata": {
  "kernelspec": {
   "display_name": "venv",
   "language": "python",
   "name": "python3"
  },
  "language_info": {
   "codemirror_mode": {
    "name": "ipython",
    "version": 3
   },
   "file_extension": ".py",
   "mimetype": "text/x-python",
   "name": "python",
   "nbconvert_exporter": "python",
   "pygments_lexer": "ipython3",
   "version": "3.10.10"
  },
  "orig_nbformat": 4,
  "vscode": {
   "interpreter": {
    "hash": "625738c1ed5cc9f7c894ecada4cd512f4fa79b897652aa69701a17fac9c8cb32"
   }
  }
 },
 "nbformat": 4,
 "nbformat_minor": 2
}
