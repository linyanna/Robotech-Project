{
 "cells": [
  {
   "cell_type": "code",
   "execution_count": 1,
   "metadata": {},
   "outputs": [],
   "source": [
    "import pandas as pd\n",
    "import sys\n",
    "import os\n",
    "from dotenv import load_dotenv, find_dotenv\n",
    "\n",
    "# BASEDIR = os.path.abspath(os.path.dirname('__file__'))\n",
    "# load_dotenv(os.path.join(BASEDIR, '.env'))\n",
    "\n",
    "load_dotenv('/Users/yannalin/Documents/cs-projects/GitHub/Robotech-Project/.env')\n",
    "\n",
    "import spotipy\n",
    "from spotipy.oauth2 import SpotifyClientCredentials\n",
    "from spotipy.oauth2 import SpotifyOAuth\n",
    "import spotipy.util as util\n"
   ]
  },
  {
   "attachments": {},
   "cell_type": "markdown",
   "metadata": {},
   "source": [
    "# Spotify Credentials Setup #"
   ]
  },
  {
   "cell_type": "code",
   "execution_count": 2,
   "metadata": {},
   "outputs": [],
   "source": [
    "client_id = os.getenv(\"SPOTIPY_CLIENT_ID\")\n",
    "client_secret = os.getenv(\"SPOTIPY_CLIENT_SECRET\")\n",
    "redirect_uri = os.getenv(\"SPOTIPY_REDIRECT_URI\")\n",
    "global_mood = os.getenv(\"GLOBAL_MOOD\")"
   ]
  },
  {
   "cell_type": "code",
   "execution_count": 3,
   "metadata": {},
   "outputs": [],
   "source": [
    "scope = 'user-library-read'\n",
    "\n",
    "if len(sys.argv) > 1:\n",
    "    username = sys.argv[1]\n",
    "else:\n",
    "    print(\"Usage: %s username\" % (sys.argv[0],))\n",
    "    sys.exit()"
   ]
  },
  {
   "cell_type": "code",
   "execution_count": 4,
   "metadata": {},
   "outputs": [],
   "source": [
    "auth_manager = SpotifyClientCredentials(client_id='SPOTIPY_CLIENT_ID', client_secret='SPOTIPY_CLIENT_SECRET')\n",
    "sp = spotipy.Spotify(auth_manager=auth_manager)"
   ]
  },
  {
   "cell_type": "code",
   "execution_count": 5,
   "metadata": {},
   "outputs": [],
   "source": [
    "token = util.prompt_for_user_token(scope, client_id=client_id, client_secret=client_secret, redirect_uri='https://localhost:8888/callback/')"
   ]
  },
  {
   "cell_type": "code",
   "execution_count": 6,
   "metadata": {},
   "outputs": [
    {
     "name": "stdout",
     "output_type": "stream",
     "text": [
      "angry\n"
     ]
    }
   ],
   "source": [
    "scope = 'user-top-read'\n",
    "sp = spotipy.Spotify(auth_manager=SpotifyOAuth(scope=scope))\n",
    "recommendations = pd.DataFrame(columns=['Track','Artist'])\n",
    "\n",
    "items = sp.current_user_top_tracks(time_range='short_term', limit=1)['items']\n",
    "\n",
    "match (global_mood):\n",
    "  case \"happy\":\n",
    "    print('happy')\n",
    "    target_energy = .8;\n",
    "    target_liveness = 1;\n",
    "    target_loudness = .7;\n",
    "    target_valence = 1;\n",
    "    for i, item in enumerate(items):\n",
    "      results = sp.recommendations(seed_tracks=[item['id']], target_energy=target_energy,target_liveness=target_liveness,target_loudness=target_loudness,target_valence=target_valence )\n",
    "      for track in results['tracks']:\n",
    "        recommendations.loc[len(recommendations.index)] = [track['name'], track['artists'][0]['name']]\n",
    "    recommendations.reset_index(drop=True, inplace=True)\n",
    "    recommendations.to_csv('./solutions/recommendations.csv')\n",
    "\n",
    "  case \"sad\":\n",
    "    print('sad')\n",
    "    target_energy = .4;\n",
    "    target_instrumental = .2;\n",
    "    target_loudness = .4;\n",
    "    target_valence = .1;\n",
    "    for i, item in enumerate(items):\n",
    "      results = sp.recommendations(seed_tracks=[item['id']], target_energy=target_energy,target_instrumental=target_instrumental,target_loudness=target_loudness,target_valence=target_valence)\n",
    "      for track in results['tracks']:\n",
    "        recommendations.loc[len(recommendations.index)] = [track['name'], track['artists'][0]['name']]\n",
    "    recommendations.reset_index(drop=True, inplace=True)\n",
    "    recommendations.to_csv('./solutions/recommendations.csv')\n",
    "\n",
    "  case \"angry\":\n",
    "    print('angry')\n",
    "    target_energy = .7;\n",
    "    target_loudness = 1;\n",
    "    target_valence = 0;\n",
    "    for i, item in enumerate(items):\n",
    "      results = sp.recommendations(seed_tracks=[item['id']], target_energy=target_energy, target_loudness=target_loudness,target_valence=target_valence)\n",
    "      for track in results['tracks']:\n",
    "        recommendations.loc[len(recommendations.index)] = [track['name'], track['artists'][0]['name']]\n",
    "    recommendations.reset_index(drop=True, inplace=True)\n",
    "    recommendations.to_csv('./solutions/recommendations.csv')\n",
    "\n",
    "  case \"calm\":\n",
    "    print('calm')\n",
    "    target_energy = .2;\n",
    "    target_instrumental = .2;\n",
    "    target_loudness = .2;\n",
    "    target_valence = .8;\n",
    "    for i, item in enumerate(items):\n",
    "      results = sp.recommendations(seed_tracks=[item['id']], target_energy=target_energy,target_instrumental=target_instrumental,target_loudness=target_loudness,target_valence=target_valence)\n",
    "      for track in results['tracks']:\n",
    "        recommendations.loc[len(recommendations.index)] = [track['name'], track['artists'][0]['name']]\n",
    "    recommendations.reset_index(drop=True, inplace=True)\n",
    "    recommendations.to_csv('./solutions/recommendations.csv')"
   ]
  }
 ],
 "metadata": {
  "kernelspec": {
   "display_name": "venv",
   "language": "python",
   "name": "python3"
  },
  "language_info": {
   "codemirror_mode": {
    "name": "ipython",
    "version": 3
   },
   "file_extension": ".py",
   "mimetype": "text/x-python",
   "name": "python",
   "nbconvert_exporter": "python",
   "pygments_lexer": "ipython3",
   "version": "3.10.10"
  },
  "orig_nbformat": 4,
  "vscode": {
   "interpreter": {
    "hash": "625738c1ed5cc9f7c894ecada4cd512f4fa79b897652aa69701a17fac9c8cb32"
   }
  }
 },
 "nbformat": 4,
 "nbformat_minor": 2
}
